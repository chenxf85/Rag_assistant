{
 "cells": [
  {
   "cell_type": "code",
   "execution_count": 15,
   "metadata": {
    "collapsed": true,
    "ExecuteTime": {
     "end_time": "2025-03-27T03:58:47.330182900Z",
     "start_time": "2025-03-27T03:58:45.622843200Z"
    }
   },
   "outputs": [
    {
     "name": "stdout",
     "output_type": "stream",
     "text": [
      "Running on local URL:  http://127.0.0.1:7870\n",
      "\n",
      "To create a public link, set `share=True` in `launch()`.\n"
     ]
    },
    {
     "data": {
      "text/plain": "<IPython.core.display.HTML object>",
      "text/html": "<div><iframe src=\"http://127.0.0.1:7870/\" width=\"100%\" height=\"500\" allow=\"autoplay; camera; microphone; clipboard-read; clipboard-write;\" frameborder=\"0\" allowfullscreen></iframe></div>"
     },
     "metadata": {},
     "output_type": "display_data"
    },
    {
     "data": {
      "text/plain": ""
     },
     "execution_count": 15,
     "metadata": {},
     "output_type": "execute_result"
    }
   ],
   "source": [
    "import gradio as gr\n",
    "gr.close_all()\n",
    "def increase(state):\n",
    "    new_value = state + 1\n",
    "    return  gr.update(value=new_value)  # 更新 UI 和 state\n",
    "\n",
    "with gr.Blocks() as demo:\n",
    "    state = gr.State(0)  # 初始化状态变量\n",
    "    output = gr.Markdown(f\"{state.value}\")\n",
    "    button = gr.Button(\"增加\")\n",
    "\n",
    "    button.click(fn=increase, inputs=state, outputs=[state])  # 更新 state 和 UI\n",
    "\n",
    "demo.launch()\n"
   ]
  },
  {
   "cell_type": "code",
   "execution_count": 6,
   "outputs": [
    {
     "name": "stdout",
     "output_type": "stream",
     "text": [
      "Running on local URL:  http://127.0.0.1:7864\n",
      "\n",
      "To create a public link, set `share=True` in `launch()`.\n"
     ]
    },
    {
     "data": {
      "text/plain": "<IPython.core.display.HTML object>",
      "text/html": "<div><iframe src=\"http://127.0.0.1:7864/\" width=\"100%\" height=\"500\" allow=\"autoplay; camera; microphone; clipboard-read; clipboard-write;\" frameborder=\"0\" allowfullscreen></iframe></div>"
     },
     "metadata": {},
     "output_type": "display_data"
    },
    {
     "data": {
      "text/plain": ""
     },
     "execution_count": 6,
     "metadata": {},
     "output_type": "execute_result"
    }
   ],
   "source": [
    "import gradio as gr\n",
    "\n",
    "philosophy_quotes = [\n",
    "    [\"I think therefore I am.\"],\n",
    "    [\"The unexamined life is not worth living.\"]\n",
    "]\n",
    "\n",
    "\n",
    "startup_quotes = [\n",
    "    [\"Ideas are easy. Implementation is hard\"],\n",
    "    [\"Make mistakes faster.\"]\n",
    "]\n",
    "\n",
    "def show_startup_quotes():\n",
    "    return gr.Dataset(samples=startup_quotes)\n",
    "\n",
    "with gr.Blocks() as demo:\n",
    "    textbox = gr.Textbox()\n",
    "    dataset = gr.Dataset(components=[textbox], samples=philosophy_quotes)\n",
    "    button = gr.Button()\n",
    "\n",
    "    button.click(show_startup_quotes, None, dataset)\n",
    "\n",
    "demo.launch()\n"
   ],
   "metadata": {
    "collapsed": false,
    "ExecuteTime": {
     "end_time": "2025-03-28T07:10:37.957172200Z",
     "start_time": "2025-03-28T07:10:36.606978300Z"
    }
   }
  },
  {
   "cell_type": "code",
   "execution_count": 3,
   "outputs": [
    {
     "name": "stdout",
     "output_type": "stream",
     "text": [
      "Running on local URL:  http://127.0.0.1:7862\n",
      "\n",
      "To create a public link, set `share=True` in `launch()`.\n"
     ]
    },
    {
     "data": {
      "text/plain": "<IPython.core.display.HTML object>",
      "text/html": "<div><iframe src=\"http://127.0.0.1:7862/\" width=\"100%\" height=\"500\" allow=\"autoplay; camera; microphone; clipboard-read; clipboard-write;\" frameborder=\"0\" allowfullscreen></iframe></div>"
     },
     "metadata": {},
     "output_type": "display_data"
    },
    {
     "data": {
      "text/plain": ""
     },
     "execution_count": 3,
     "metadata": {},
     "output_type": "execute_result"
    }
   ],
   "source": [
    "import gradio as gr\n",
    "\n",
    "# 示例数据：每行包含 (文件名, 向量)\n",
    "vectorized_files = [\n",
    "    [\"file1.txt\", [0.1, 0.2, 0.3, 0.4]],\n",
    "    [\"file2.txt\", [0.5, 0.6, 0.7, 0.8]],\n",
    "    [\"file3.txt\", [0.9, 1.0, 1.1, 1.2]],\n",
    "]\n",
    "\n",
    "\n",
    "with gr.Blocks() as demo:\n",
    "    gr.Markdown(\"## 选择向量化文本\")\n",
    "    dataset = gr.Dataset(components=[gr.Textbox(), gr.Textbox()], samples=vectorized_files, label=\"向量化数据\")\n",
    " #  dataset.render()\n",
    "\n",
    "demo.launch()\n",
    "\n",
    "\n"
   ],
   "metadata": {
    "collapsed": false,
    "ExecuteTime": {
     "end_time": "2025-04-01T07:45:14.851892400Z",
     "start_time": "2025-04-01T07:45:14.183720800Z"
    }
   }
  },
  {
   "cell_type": "code",
   "execution_count": 5,
   "outputs": [
    {
     "ename": "AttributeError",
     "evalue": "module 'gradio' has no attribute 'Sidebar'",
     "output_type": "error",
     "traceback": [
      "\u001B[1;31m---------------------------------------------------------------------------\u001B[0m",
      "\u001B[1;31mAttributeError\u001B[0m                            Traceback (most recent call last)",
      "Cell \u001B[1;32mIn[5], line 3\u001B[0m\n\u001B[0;32m      1\u001B[0m \u001B[38;5;28;01mimport\u001B[39;00m\u001B[38;5;250m \u001B[39m\u001B[38;5;21;01mgradio\u001B[39;00m\u001B[38;5;250m \u001B[39m\u001B[38;5;28;01mas\u001B[39;00m\u001B[38;5;250m \u001B[39m\u001B[38;5;21;01mgr\u001B[39;00m\n\u001B[0;32m      2\u001B[0m \u001B[38;5;28;01mwith\u001B[39;00m gr\u001B[38;5;241m.\u001B[39mBlocks() \u001B[38;5;28;01mas\u001B[39;00m demo:\n\u001B[1;32m----> 3\u001B[0m     \u001B[38;5;28;01mwith\u001B[39;00m \u001B[43mgr\u001B[49m\u001B[38;5;241;43m.\u001B[39;49m\u001B[43mSidebar\u001B[49m():\n\u001B[0;32m      4\u001B[0m         gr\u001B[38;5;241m.\u001B[39mTextbox()\n\u001B[0;32m      5\u001B[0m         gr\u001B[38;5;241m.\u001B[39mButton()\n",
      "\u001B[1;31mAttributeError\u001B[0m: module 'gradio' has no attribute 'Sidebar'"
     ]
    }
   ],
   "source": [
    "import gradio as gr\n",
    "with gr.Blocks() as demo:\n",
    "    with gr.Sidebar():\n",
    "        gr.Textbox()\n",
    "        gr.Button()\n"
   ],
   "metadata": {
    "collapsed": false,
    "ExecuteTime": {
     "end_time": "2025-04-01T08:03:23.268252600Z",
     "start_time": "2025-04-01T08:03:23.202852900Z"
    }
   }
  },
  {
   "cell_type": "code",
   "execution_count": 11,
   "outputs": [
    {
     "name": "stderr",
     "output_type": "stream",
     "text": [
      "D:\\Anaconda\\lib\\site-packages\\gradio\\utils.py:1002: UserWarning: Expected 1 arguments for function <function <lambda> at 0x0000021B872A8AF0>, received 0.\n",
      "  warnings.warn(\n",
      "D:\\Anaconda\\lib\\site-packages\\gradio\\utils.py:1006: UserWarning: Expected at least 1 arguments for function <function <lambda> at 0x0000021B872A8AF0>, received 0.\n",
      "  warnings.warn(\n"
     ]
    },
    {
     "name": "stdout",
     "output_type": "stream",
     "text": [
      "Running on local URL:  http://127.0.0.1:7865\n",
      "\n",
      "To create a public link, set `share=True` in `launch()`.\n"
     ]
    },
    {
     "data": {
      "text/plain": "<IPython.core.display.HTML object>",
      "text/html": "<div><iframe src=\"http://127.0.0.1:7865/\" width=\"100%\" height=\"500\" allow=\"autoplay; camera; microphone; clipboard-read; clipboard-write;\" frameborder=\"0\" allowfullscreen></iframe></div>"
     },
     "metadata": {},
     "output_type": "display_data"
    },
    {
     "data": {
      "text/plain": ""
     },
     "execution_count": 11,
     "metadata": {},
     "output_type": "execute_result"
    }
   ],
   "source": [
    "import gradio as gr\n",
    "import chromadb\n",
    "from sentence_transformers import SentenceTransformer\n",
    "import os\n",
    "import time\n",
    "\n",
    "# 初始化 ChromaDB\n",
    "chroma_client = chromadb.PersistentClient(path=\"./chroma_db\")\n",
    "collection = chroma_client.get_or_create_collection(name=\"text_files\")\n",
    "\n",
    "# 加载嵌入模型\n",
    "model = SentenceTransformer(\"all-MiniLM-L6-v2\")\n",
    "\n",
    "# 存储文件内容\n",
    "data_folder = \"uploaded_texts\"\n",
    "os.makedirs(data_folder, exist_ok=True)\n",
    "\n",
    "def process_file(files):\n",
    "    \"\"\" 处理上传的文件，进行向量化并存入 ChromaDB \"\"\"\n",
    "    for file in files:\n",
    "        file_path = os.path.join(data_folder, file.name)\n",
    "        with open(file_path, \"r\", encoding=\"utf-8\") as f:\n",
    "            content = f.read()\n",
    "\n",
    "        # 计算向量\n",
    "        vector = model.encode(content).tolist()\n",
    "\n",
    "        # 存入 ChromaDB\n",
    "        collection.add(\n",
    "            ids=[file.name],\n",
    "            embeddings=[vector],\n",
    "            metadatas=[{\"filename\": file.name, \"timestamp\": time.strftime(\"%Y-%m-%d %H:%M:%S\")}]\n",
    "        )\n",
    "\n",
    "    return get_stored_files()\n",
    "\n",
    "def get_stored_files():\n",
    "    \"\"\" 获取已存入 ChromaDB 的文件信息，返回 Dataset 数据 \"\"\"\n",
    "    results = collection.get(include=[\"metadatas\"])\n",
    "    file_data = [[doc[\"filename\"], doc[\"timestamp\"]] for doc in results[\"metadatas\"]]\n",
    "    return file_data\n",
    "\n",
    "def search_similar_file(selected_file):\n",
    "    \"\"\" 基于选定文件进行相似度检索 \"\"\"\n",
    "    if not selected_file:\n",
    "        return \"请选择一个文件\"\n",
    "\n",
    "    # 获取该文件的向量\n",
    "    results = collection.get(ids=[selected_file], include=[\"embeddings\"])\n",
    "    if not results[\"embeddings\"]:\n",
    "        return \"该文件不存在\"\n",
    "\n",
    "    query_vector = results[\"embeddings\"][0]\n",
    "\n",
    "    # 执行最近邻搜索\n",
    "    search_results = collection.query(\n",
    "        query_embeddings=[query_vector],\n",
    "        n_results=5\n",
    "    )\n",
    "\n",
    "    # 提取相似文件名\n",
    "    matched_files = [doc[\"filename\"] for doc in search_results[\"metadatas\"][0] if doc[\"filename\"] != selected_file]\n",
    "    return matched_files or [\"未找到相似文件\"]\n",
    "\n",
    "# Gradio 界面\n",
    "with gr.Blocks() as demo:\n",
    "    gr.Markdown(\"## 📄 文本向量化与检索系统\")\n",
    "\n",
    "    with gr.Row():\n",
    "        with gr.Column():\n",
    "            file_uploader = gr.File(label=\"📤 上传文本文件\", file_types=[\".txt\", \".md\"], file_count=\"multiple\")\n",
    "            upload_button = gr.Button(\"向量化文件\")\n",
    "            refresh_button = gr.Button(\"🔄 刷新文件列表\")\n",
    "          #  file_dataset = gr.Dataset(components=[gr.Textbox(), gr.Textbox()], label=\"📋 已向量化的文件\", headers=[\"文件名\", \"存储时间\"])\n",
    "            file_dataset = gr.Dataset(\n",
    "    components=[gr.Textbox(), gr.Image()],\n",
    "    label=\"📋 已上传文件\",\n",
    "    headers=[\"文件名\", \"缩略图\"],\n",
    "             samples=[[\"1111\",\"1111\"]]\n",
    ")\n",
    "\n",
    "        with gr.Column():\n",
    "            selected_file = gr.Textbox(label=\"📌 选定文件\")\n",
    "            search_button = gr.Button(\"🔍 搜索相似文件\")\n",
    "            result_text = gr.Textbox(label=\"🔎 检索结果\")\n",
    "\n",
    "\n",
    "    # 绑定事件\n",
    "    upload_button.click(process_file, inputs=[file_uploader], outputs=[file_dataset])\n",
    "    refresh_button.click(get_stored_files,  outputs=[file_dataset])\n",
    "    file_dataset.select(lambda row: row[0], outputs=[selected_file])  # 选择文件时更新输入框\n",
    "    search_button.click(search_similar_file, inputs=[selected_file], outputs=[result_text])\n",
    "\n",
    "demo.launch()\n"
   ],
   "metadata": {
    "collapsed": false,
    "ExecuteTime": {
     "end_time": "2025-04-01T08:44:20.718993600Z",
     "start_time": "2025-04-01T08:44:15.576136500Z"
    }
   }
  },
  {
   "cell_type": "code",
   "execution_count": null,
   "outputs": [],
   "source": [],
   "metadata": {
    "collapsed": false
   }
  }
 ],
 "metadata": {
  "kernelspec": {
   "display_name": "Python 3",
   "language": "python",
   "name": "python3"
  },
  "language_info": {
   "codemirror_mode": {
    "name": "ipython",
    "version": 2
   },
   "file_extension": ".py",
   "mimetype": "text/x-python",
   "name": "python",
   "nbconvert_exporter": "python",
   "pygments_lexer": "ipython2",
   "version": "2.7.6"
  }
 },
 "nbformat": 4,
 "nbformat_minor": 0
}
